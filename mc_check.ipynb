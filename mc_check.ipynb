{
 "cells": [
  {
   "cell_type": "code",
   "id": "initial_id",
   "metadata": {
    "collapsed": true,
    "ExecuteTime": {
     "end_time": "2025-10-21T02:58:25.082757Z",
     "start_time": "2025-10-21T02:58:25.080251Z"
    }
   },
   "source": [
    "import numpy as np\n",
    "import pandas as pd"
   ],
   "outputs": [],
   "execution_count": 1
  },
  {
   "metadata": {
    "ExecuteTime": {
     "end_time": "2025-10-21T02:58:25.125467Z",
     "start_time": "2025-10-21T02:58:25.086665Z"
    }
   },
   "cell_type": "code",
   "source": "df = pd.read_csv(\"conspan_clean.csv\")",
   "id": "82c6acb2d3798f00",
   "outputs": [],
   "execution_count": 2
  },
  {
   "metadata": {
    "ExecuteTime": {
     "end_time": "2025-10-21T02:58:25.134218Z",
     "start_time": "2025-10-21T02:58:25.128007Z"
    }
   },
   "cell_type": "code",
   "source": "df.info()",
   "id": "b98d69d1a7e5d03b",
   "outputs": [
    {
     "name": "stdout",
     "output_type": "stream",
     "text": [
      "<class 'pandas.core.frame.DataFrame'>\n",
      "RangeIndex: 1172 entries, 0 to 1171\n",
      "Data columns (total 28 columns):\n",
      " #   Column                    Non-Null Count  Dtype  \n",
      "---  ------                    --------------  -----  \n",
      " 0   Employee ID               1172 non-null   int64  \n",
      " 1   Age                       1172 non-null   float64\n",
      " 2   Department                1172 non-null   object \n",
      " 3   DistanceFromHome          1172 non-null   int64  \n",
      " 4   Education                 1172 non-null   float64\n",
      " 5   EnvironmentSatisfaction   1172 non-null   float64\n",
      " 6   Gender                    1172 non-null   object \n",
      " 7   JobInvolvement            1172 non-null   int64  \n",
      " 8   JobLevel                  1172 non-null   int64  \n",
      " 9   JobRotation               1172 non-null   int64  \n",
      " 10  FeedbackFromManager       1172 non-null   object \n",
      " 11  Mentoring                 1172 non-null   object \n",
      " 12  Autonomy                  1172 non-null   object \n",
      " 13  JobRole                   1172 non-null   object \n",
      " 14  MonthlyIncome             1172 non-null   float64\n",
      " 15  NumCompaniesWorked        1172 non-null   float64\n",
      " 16  OverTime                  1172 non-null   object \n",
      " 17  PercentSalaryHike         1172 non-null   float64\n",
      " 18  RelationshipSatisfaction  1172 non-null   float64\n",
      " 19  Tools                     1172 non-null   object \n",
      " 20  TotalWorkingYears         1172 non-null   float64\n",
      " 21  Training                  1172 non-null   object \n",
      " 22  WorkLifeBalance           1172 non-null   float64\n",
      " 23  YearsAtCompany            1172 non-null   float64\n",
      " 24  YearsInCurrentRole        1172 non-null   float64\n",
      " 25  YearsSinceLastPromotion   1172 non-null   float64\n",
      " 26  YearsWithCurrManager      1172 non-null   float64\n",
      " 27  Performance               1172 non-null   int64  \n",
      "dtypes: float64(13), int64(6), object(9)\n",
      "memory usage: 256.5+ KB\n"
     ]
    }
   ],
   "execution_count": 3
  },
  {
   "metadata": {
    "ExecuteTime": {
     "end_time": "2025-10-21T02:58:25.152964Z",
     "start_time": "2025-10-21T02:58:25.150857Z"
    }
   },
   "cell_type": "code",
   "source": "unimp_cols = ['WorkLifeBalance', 'JobInvolvement', 'RelationshipSatisfaction', 'Age', 'Gender', 'Education', 'YearsAtCompany', 'YearsInCurrentRole', 'YearsSinceLastPromotion', 'NumCompaniesWorked', 'PercentSalaryHike', 'DistanceFromHome', 'Employee ID']",
   "id": "d8b6662cede12e16",
   "outputs": [],
   "execution_count": 4
  },
  {
   "metadata": {
    "ExecuteTime": {
     "end_time": "2025-10-21T02:58:25.159042Z",
     "start_time": "2025-10-21T02:58:25.156695Z"
    }
   },
   "cell_type": "code",
   "source": "df = df.drop(columns = unimp_cols)",
   "id": "abccc62c8ee0ec9c",
   "outputs": [],
   "execution_count": 5
  },
  {
   "metadata": {
    "ExecuteTime": {
     "end_time": "2025-10-21T02:58:40.178395Z",
     "start_time": "2025-10-21T02:58:40.172089Z"
    }
   },
   "cell_type": "code",
   "source": [
    "X = df.drop(columns=['Performance'])\n",
    "X = pd.get_dummies(X, drop_first=True)"
   ],
   "id": "266433d25fb4fd4f",
   "outputs": [],
   "execution_count": 7
  },
  {
   "metadata": {
    "ExecuteTime": {
     "end_time": "2025-10-21T02:58:40.192966Z",
     "start_time": "2025-10-21T02:58:40.180506Z"
    }
   },
   "cell_type": "code",
   "source": [
    "corr = X.corr(numeric_only=True)\n",
    "pairs = (\n",
    "    corr.where(np.triu(np.ones(corr.shape), k=1).astype(bool))\n",
    "        .stack()                                # Series with MultiIndex (feat1, feat2)\n",
    "        .rename_axis(['feat1', 'feat2'])        # give index level names\n",
    "        .reset_index(name='corr')               # move index to columns; name the Series as 'corr'\n",
    "        .assign(abs_corr=lambda d: d['corr'].abs())\n",
    "        .query('abs_corr >= 0.8')\n",
    "        .sort_values('abs_corr', ascending=False)\n",
    ")\n",
    "print(pairs.head(10))"
   ],
   "id": "8a7e53cea2214296",
   "outputs": [
    {
     "name": "stdout",
     "output_type": "stream",
     "text": [
      "                          feat1                    feat2      corr  abs_corr\n",
      "204       Department_Production       JobRole_Machinists  0.881837  0.881837\n",
      "29                     JobLevel            MonthlyIncome  0.880890  0.880890\n",
      "161  Department_Human Resources  JobRole_Human Resources  0.878168  0.878168\n"
     ]
    }
   ],
   "execution_count": 8
  },
  {
   "metadata": {
    "ExecuteTime": {
     "end_time": "2025-10-21T02:58:40.221621Z",
     "start_time": "2025-10-21T02:58:40.205466Z"
    }
   },
   "cell_type": "code",
   "source": [
    "from statsmodels.stats.outliers_influence import variance_inflation_factor\n",
    "\n",
    "X_num = X.select_dtypes(include=[np.number]).dropna(axis=0)\n",
    "vif = pd.DataFrame({\n",
    "    'feature': X_num.columns,\n",
    "    'VIF': [variance_inflation_factor(X_num.values, i) for i in range(X_num.shape[1])]\n",
    "}).sort_values('VIF', ascending=False)\n",
    "print(vif.head(10))"
   ],
   "id": "606f9e4aa07ee050",
   "outputs": [
    {
     "name": "stdout",
     "output_type": "stream",
     "text": [
      "                   feature        VIF\n",
      "1                 JobLevel  21.299089\n",
      "3            MonthlyIncome  18.164580\n",
      "4        TotalWorkingYears   6.997190\n",
      "2              JobRotation   4.334379\n",
      "0  EnvironmentSatisfaction   4.065041\n",
      "5     YearsWithCurrManager   3.266625\n"
     ]
    }
   ],
   "execution_count": 9
  }
 ],
 "metadata": {
  "kernelspec": {
   "display_name": "Python 3",
   "language": "python",
   "name": "python3"
  },
  "language_info": {
   "codemirror_mode": {
    "name": "ipython",
    "version": 2
   },
   "file_extension": ".py",
   "mimetype": "text/x-python",
   "name": "python",
   "nbconvert_exporter": "python",
   "pygments_lexer": "ipython2",
   "version": "2.7.6"
  }
 },
 "nbformat": 4,
 "nbformat_minor": 5
}
